{
 "cells": [
  {
   "cell_type": "code",
   "execution_count": 1,
   "id": "9c3b3be3-1bc9-451c-be22-292b5f2b134d",
   "metadata": {},
   "outputs": [],
   "source": [
    "import pandas as pd\n",
    "import sqlalchemy as sal\n",
    "\n",
    "engine = sal.create_engine('mssql://DESKTOP-JUPCVM3\\SQLEXPRESS/master?driver=ODBC+DRIVER+13+FOR+SQL+SERVER')\n",
    "conn=engine.connect()"
   ]
  },
  {
   "cell_type": "code",
   "execution_count": 51,
   "id": "c3ad0334-aca9-40a9-845b-b2f507cc8c40",
   "metadata": {},
   "outputs": [],
   "source": [
    "#SCD 2 ETL process\n",
    "\n",
    "def extract():\n",
    "    df_product = pd.read_csv('products.txt') #create df from received file\n",
    "    df_product_db = pd.read_sql_query(\"select * from product_dim where end_date = '9999-12-31'\",conn) #extract only active records from table as only those needs to be updated further\n",
    "    return df_product,df_product_db\n",
    "\n",
    "def transform(df_product,df_product_db):\n",
    "    df_merge = pd.merge(df_product,df_product_db, how = 'inner', left_on ='product_id' , right_on ='product_id')\n",
    "    keys = df_merge['product_key'].to_list()  #convert series to list #find product_key(surrogate keys) for which end_date needs to be updated\n",
    "    product_keys = ','.join([str(i) for i in keys])  #convert list to comma seperated values\n",
    "    return product_keys\n",
    "\n",
    "def updates(product_keys):  #need to update the end date of existing products to current_date-1\n",
    "    query = sal.text(\"update product_dim set end_date= cast(getdate()-1 as date), active_flag = 0 where product_key in (\" + product_keys +\")\") #update the end_date of active records before inserting the new data\n",
    "    conn.execute(query)  \n",
    "    conn.commit()\n",
    "\n",
    "def insert(df_product):   #need to insert all the records with start_date = current_date & end_date = 9999-12-31\n",
    "    df_product['start_date'] = pd.to_datetime('now').strftime('%Y-%m-%d')  #add start_date as current_date\n",
    "    df_product['end_date'] = '9999-12-31'   #add end_date as future date\n",
    "    df_product['active_flag'] = 1\n",
    "    df_product.to_sql('product_dim',conn,index = False,if_exists = 'append') #insert new data with start_date and end_date\n",
    "    conn.commit()\n"
   ]
  },
  {
   "cell_type": "code",
   "execution_count": 52,
   "id": "2b1cdf82-6e03-44d9-8b11-d8c7db792373",
   "metadata": {},
   "outputs": [],
   "source": [
    "df_product,df_product_db = extract()\n",
    "\n",
    "product_keys = transform(df_product,df_product_db)\n",
    "\n",
    "if product_keys != '':\n",
    "    updates(product_keys)\n",
    "\n",
    "insert(df_product)"
   ]
  },
  {
   "cell_type": "code",
   "execution_count": 42,
   "id": "fe6faa79-07f1-4cf6-a538-b3869fc97f27",
   "metadata": {},
   "outputs": [
    {
     "data": {
      "text/plain": [
       "'2023-09-28'"
      ]
     },
     "execution_count": 42,
     "metadata": {},
     "output_type": "execute_result"
    }
   ],
   "source": [
    "pd.to_datetime('now').strftime('%Y-%m-%d')"
   ]
  },
  {
   "cell_type": "code",
   "execution_count": 37,
   "id": "7d7e5d6e-6617-4cff-8207-87cfaa7b6fa7",
   "metadata": {},
   "outputs": [
    {
     "data": {
      "text/plain": [
       "'1,2'"
      ]
     },
     "execution_count": 37,
     "metadata": {},
     "output_type": "execute_result"
    }
   ],
   "source": [
    "product_keys"
   ]
  },
  {
   "cell_type": "code",
   "execution_count": 38,
   "id": "768913c0-47d5-47c6-b9cb-5e1b18bc4276",
   "metadata": {},
   "outputs": [
    {
     "data": {
      "text/plain": [
       "'update product_dim set end_date= cast(getdate()-1 as date) where product_key in (1,2)'"
      ]
     },
     "execution_count": 38,
     "metadata": {},
     "output_type": "execute_result"
    }
   ],
   "source": [
    "\"update product_dim set end_date= cast(getdate()-1 as date) where product_key in (\" + product_keys +\")\""
   ]
  },
  {
   "cell_type": "code",
   "execution_count": 33,
   "id": "afd9ceb7-bc53-4932-b87c-88e3be9f93c4",
   "metadata": {},
   "outputs": [],
   "source": [
    "df_merge['product_key']\n",
    "\n",
    "#convert series to list\n",
    "keys = df_merge['product_key'].to_list()\n",
    "\n",
    "#convert list to comma seperated values\n",
    "product_keys = ','.join([str(i) for i in keys])\n",
    "\n",
    "# update product_dim set end_date= cast(getdate()-1 as date) where product_key in ()"
   ]
  },
  {
   "cell_type": "code",
   "execution_count": 34,
   "id": "b3d0008e-a3c5-4c9c-be30-11937eed23f4",
   "metadata": {},
   "outputs": [
    {
     "data": {
      "text/plain": [
       "'1,2'"
      ]
     },
     "execution_count": 34,
     "metadata": {},
     "output_type": "execute_result"
    }
   ],
   "source": [
    "product_keys"
   ]
  },
  {
   "cell_type": "code",
   "execution_count": 26,
   "id": "133244d7-ec1b-4327-b9f8-a5c7114315cc",
   "metadata": {},
   "outputs": [
    {
     "data": {
      "text/plain": [
       "'1,2'"
      ]
     },
     "execution_count": 26,
     "metadata": {},
     "output_type": "execute_result"
    }
   ],
   "source": [
    "a = ['1','2']\n",
    "','.join(a)  #this works only with strings but not with int"
   ]
  },
  {
   "cell_type": "code",
   "execution_count": 28,
   "id": "9f21b266-de89-451b-8ea9-12d2c2840222",
   "metadata": {},
   "outputs": [
    {
     "data": {
      "text/plain": [
       "['1', '2']"
      ]
     },
     "execution_count": 28,
     "metadata": {},
     "output_type": "execute_result"
    }
   ],
   "source": [
    "a = [1,2]\n",
    "[str(i) for i in a]  #list comprehension #to convert each element to string value"
   ]
  },
  {
   "cell_type": "code",
   "execution_count": 29,
   "id": "eb778d04-d2b5-4c14-9b1f-fab30c831e7f",
   "metadata": {},
   "outputs": [
    {
     "data": {
      "text/plain": [
       "'1,2'"
      ]
     },
     "execution_count": 29,
     "metadata": {},
     "output_type": "execute_result"
    }
   ],
   "source": [
    "','.join([str(i) for i in a])"
   ]
  }
 ],
 "metadata": {
  "kernelspec": {
   "display_name": "Python 3 (ipykernel)",
   "language": "python",
   "name": "python3"
  },
  "language_info": {
   "codemirror_mode": {
    "name": "ipython",
    "version": 3
   },
   "file_extension": ".py",
   "mimetype": "text/x-python",
   "name": "python",
   "nbconvert_exporter": "python",
   "pygments_lexer": "ipython3",
   "version": "3.11.5"
  }
 },
 "nbformat": 4,
 "nbformat_minor": 5
}
